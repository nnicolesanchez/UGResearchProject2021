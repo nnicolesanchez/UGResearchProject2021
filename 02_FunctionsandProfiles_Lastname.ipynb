{
 "cells": [
  {
   "cell_type": "markdown",
   "metadata": {
    "deletable": true,
    "editable": true
   },
   "source": [
    "### How to Log Back into Brume without Additional Setup"
   ]
  },
  {
   "cell_type": "markdown",
   "metadata": {
    "deletable": true,
    "editable": true
   },
   "source": [
    "First of all, make sure that you are connected to the UW VPN "
   ]
  },
  {
   "cell_type": "markdown",
   "metadata": {
    "deletable": true,
    "editable": true
   },
   "source": [
    "1. Open up a new **terminal** or **command line**\n",
    "2. Log into brume using your netID \n",
    "\n",
    "    ```ssh [your UWNet ID]@brume.astro.washington.edu```\n",
    "    \n",
    "    ** If you have set up your alias, you can just type: ```sshUW```\n",
    "\n",
    "3. Type ```notebook``` to load up the Jupyter Notebook system\n",
    "4. Open up a web browser to:\n",
    "\n",
    "    brume.astro.washington.edu:88##\n",
    "    \n",
    "    **Replace ## with whatever port you see on the terminal. It should say something like: \n",
    "    \n",
    "    ```The Jupyter Notebook is running at: https://[all ip addresses on your system]:8891/```\n",
    "    \n",
    "    So you should type in:\n",
    "    \n",
    "    ```brume.astro.washington.edu:8891```\n",
    "    \n",
    "5. Move into the UGResearchProject2021 directory and open your next project!"
   ]
  },
  {
   "cell_type": "markdown",
   "metadata": {
    "deletable": true,
    "editable": true
   },
   "source": [
    "### Resources\n",
    "\n",
    "In addition to the jupyter notebooks included in this github repository, there are a number of tutorials that may end up being useful to you as you progress through the research. \n",
    "\n",
    "Some useful links:\n",
    "\n",
    "- Making images with Pynbody:\n",
    "\n",
    "https://pynbody.github.io/pynbody/tutorials/pictures.html\n",
    "\n",
    "- Once we start using Tangos:\n",
    "\n",
    "https://nbviewer.jupyter.org/github/pynbody/tangos/blob/master/docs/Data%20exploration%20with%20python.ipynb"
   ]
  },
  {
   "cell_type": "markdown",
   "metadata": {
    "deletable": true,
    "editable": true
   },
   "source": [
    "# Functions"
   ]
  },
  {
   "cell_type": "code",
   "execution_count": null,
   "metadata": {
    "collapsed": true,
    "deletable": true,
    "editable": true
   },
   "outputs": [],
   "source": [
    "# Always remember to load in your packages\n",
    "import matplotlib.pyplot as plt\n",
    "import pynbody\n",
    "\n",
    "% matplotlib inline"
   ]
  },
  {
   "cell_type": "markdown",
   "metadata": {
    "deletable": true,
    "editable": true
   },
   "source": [
    "Most research analysis can get very repetitive, especially simulations. There is so much data to parse through, and often you want to look at the same properties of plots for a lot of different particles or even different simulations. \n",
    "\n",
    "Functions will make your life much, much in this regard.\n",
    "\n",
    "A quick refresher if needed:"
   ]
  },
  {
   "cell_type": "code",
   "execution_count": null,
   "metadata": {
    "collapsed": true,
    "deletable": true,
    "editable": true
   },
   "outputs": [],
   "source": [
    "def multiply(x, y):\n",
    "    \"\"\"This function multiplies x and y.\"\"\"\n",
    "    return x * y"
   ]
  },
  {
   "cell_type": "code",
   "execution_count": null,
   "metadata": {
    "collapsed": true,
    "deletable": true,
    "editable": true
   },
   "outputs": [],
   "source": [
    "a = 5\n",
    "b = 10\n",
    "product = multiply(a,b)\n",
    "print(product)"
   ]
  },
  {
   "cell_type": "markdown",
   "metadata": {
    "deletable": true,
    "editable": true
   },
   "source": [
    "You have the freedom to create whatever functions would be most useful to you. One function in particular that will make things easier is one that loads a simulation and does all the necessary starting bits for you automatically."
   ]
  },
  {
   "cell_type": "code",
   "execution_count": null,
   "metadata": {
    "collapsed": true,
    "deletable": true,
    "editable": true
   },
   "outputs": [],
   "source": [
    "variable = \n",
    "def name_of_function(variable):\n",
    "    \"\"\"It's always good to comment your codes for later!\"\"\"\n",
    "    # load in the simulation\n",
    "    # put it in the right units \n",
    "    # center it or turn it face on\n",
    "    # select the main halo?\n",
    "    return output, output"
   ]
  },
  {
   "cell_type": "markdown",
   "metadata": {
    "deletable": true,
    "editable": true
   },
   "source": [
    "Hurray!!! A function!"
   ]
  },
  {
   "cell_type": "markdown",
   "metadata": {
    "deletable": true,
    "editable": true
   },
   "source": [
    "As you've already seen, we'll be using many different notebooks throughout our research. It will be useful to you to be able to call these functions that you're creating in many different notebooks moving forward so we're going to turn your function into a ```module```."
   ]
  },
  {
   "cell_type": "markdown",
   "metadata": {
    "deletable": true,
    "editable": true
   },
   "source": [
    "# Modules"
   ]
  },
  {
   "cell_type": "markdown",
   "metadata": {
    "deletable": true,
    "editable": true
   },
   "source": [
    "1. Go back to the tab in your web browser with the list of files (where you opened this notebook)\n",
    "2. Create a new text file by clicking New at the top right of the window and selecting text file.\n",
    "3. Name the file `mymodule.py`.\n",
    "4. Write `import pynbody` as the first line of your file. Then copy the function definitions for your function into your file.\n",
    "5. Save the file the same way you save your Jupyter notebooks.\n",
    "6. Go back to **this** Jupyter notebook and in the cell below, run `import mymodule` to import the functions from your _module_ into this python script. *Note: If you make edits to your mymodule.py file after you import it into this notebook, you will need to restart the notebook and import it again for the changes to be recognized.*\n",
    "5. You can now run your new function (and any additional functions you create) by calling `mymodule.name_of_function` in this notebook. Try that below: "
   ]
  },
  {
   "cell_type": "code",
   "execution_count": null,
   "metadata": {
    "collapsed": true,
    "deletable": true,
    "editable": true
   },
   "outputs": [],
   "source": [
    "sim = name_of_function(variable)"
   ]
  },
  {
   "cell_type": "markdown",
   "metadata": {
    "deletable": true,
    "editable": true
   },
   "source": [
    "We'll come back to modules once we've done some more processing of the simulations. They are super useful tools, and getting used to working with them will make your workflow much speedier."
   ]
  },
  {
   "cell_type": "markdown",
   "metadata": {
    "deletable": true,
    "editable": true
   },
   "source": [
    "# Profiles"
   ]
  },
  {
   "cell_type": "markdown",
   "metadata": {
    "deletable": true,
    "editable": true
   },
   "source": [
    "We're going to switch gears now and start working on a new kind of plot: Profiles.\n",
    "\n",
    "Here is another pynbody tutorial for additional guidance: https://pynbody.github.io/pynbody/tutorials/profile.html"
   ]
  },
  {
   "cell_type": "markdown",
   "metadata": {
    "deletable": true,
    "editable": true
   },
   "source": [
    "We are going to make profiles for three different portions of the galaxy:\n",
    "1. The whole thing (always good to start here!)\n",
    "2. Only the disk\n",
    "3. Only the CGM"
   ]
  },
  {
   "cell_type": "markdown",
   "metadata": {
    "deletable": true,
    "editable": true
   },
   "source": [
    "A profile is often a useful way to look at the galaxy, whether in 2D or 3D. It can, for example, tell us where the bulk properties of the gas or stars lie in relation to the disk of the galaxy.\n",
    "\n",
    "Pynbody has a useful function that we can use to make profiles directly: ```pynbody.analysis.profile.Profile```"
   ]
  },
  {
   "cell_type": "code",
   "execution_count": null,
   "metadata": {
    "collapsed": true,
    "deletable": true,
    "editable": true
   },
   "outputs": [],
   "source": [
    "# vmin references how close the profile goes to the center of the galaxy, vmax is the edge of the profile\n",
    "p = pynbody.analysis.profile.Profile(h1.g, vmin =.01, max=50)"
   ]
  },
  {
   "cell_type": "markdown",
   "metadata": {
    "deletable": true,
    "editable": true
   },
   "source": [
    "The object ```p``` now contains the profile information for the whole halo and can be explored in a similar way."
   ]
  },
  {
   "cell_type": "code",
   "execution_count": null,
   "metadata": {
    "collapsed": true,
    "deletable": true,
    "editable": true
   },
   "outputs": [],
   "source": [
    "# All the profiles are functions of galaxy radius, so you'll plot all your functions with rbins as the x-axis\n",
    "p['rbins'] "
   ]
  },
  {
   "cell_type": "code",
   "execution_count": null,
   "metadata": {
    "collapsed": true,
    "deletable": true,
    "editable": true
   },
   "outputs": [],
   "source": [
    "# Gas mass, because that's what you specified in the profile function\n",
    "p['mass']"
   ]
  },
  {
   "cell_type": "code",
   "execution_count": null,
   "metadata": {
    "collapsed": true,
    "deletable": true,
    "editable": true
   },
   "outputs": [],
   "source": [
    "# Gas density\n",
    "p['rho'] "
   ]
  },
  {
   "cell_type": "code",
   "execution_count": null,
   "metadata": {
    "collapsed": true,
    "deletable": true,
    "editable": true
   },
   "outputs": [],
   "source": [
    "# Gas temperature\n",
    "p['temp']"
   ]
  },
  {
   "cell_type": "code",
   "execution_count": null,
   "metadata": {
    "collapsed": true,
    "deletable": true,
    "editable": true
   },
   "outputs": [],
   "source": [
    "# Gas metallicity: fraction of gas in metals, unitless\n",
    "p['metals']"
   ]
  },
  {
   "cell_type": "code",
   "execution_count": null,
   "metadata": {
    "collapsed": true,
    "deletable": true,
    "editable": true
   },
   "outputs": [],
   "source": [
    "# Let's plot temperature\n",
    "fig = plt.figure(figsize=[6,6],dpi=70) \n",
    "\n",
    "plt.plot(p['rbins'],p['mass']);\n",
    "plt.xlabel('R/kpc') \n",
    "plt.ylabel('Mass/Msun')"
   ]
  },
  {
   "cell_type": "markdown",
   "metadata": {
    "deletable": true,
    "editable": true
   },
   "source": [
    "Alright! Now you know how to create profiles and plot them!"
   ]
  },
  {
   "cell_type": "markdown",
   "metadata": {
    "deletable": true,
    "editable": true
   },
   "source": [
    "Let's pause here and talk about how astronomers define the differences between the \"disk\" and the \"CGM.\""
   ]
  },
  {
   "cell_type": "markdown",
   "metadata": {
    "deletable": true,
    "editable": true
   },
   "source": [
    "## Profile practice"
   ]
  },
  {
   "cell_type": "markdown",
   "metadata": {
    "deletable": true,
    "editable": true
   },
   "source": [
    "Now that you've made profile plots of the mass for the whole galaxy, try making one for just the disk and just the CGM. \n",
    "(You can compare the CGM profile you make to Figure 9 in Sanchez et. al. 2019! Don't worry if things look a little different. We'll talk about that next week.)\n",
    "1. Create a profile object for the disk and CGM (Don't forget to name them different things!)\n",
    "    - Plot the density, temperature, and metallicity profiles of the disk\n",
    "    - Plot the density and temperature profiles of the CGM \n",
    "\n",
    "2. Create a profile object for all the stars in the galaxy\n",
    "    - Plot the density and temperature profiles for all the stars\n"
   ]
  },
  {
   "cell_type": "code",
   "execution_count": null,
   "metadata": {
    "collapsed": true,
    "deletable": true,
    "editable": true
   },
   "outputs": [],
   "source": []
  }
 ],
 "metadata": {
  "kernelspec": {
   "display_name": "Python [conda env:py36]",
   "language": "python",
   "name": "conda-env-py36-py"
  },
  "language_info": {
   "codemirror_mode": {
    "name": "ipython",
    "version": 3
   },
   "file_extension": ".py",
   "mimetype": "text/x-python",
   "name": "python",
   "nbconvert_exporter": "python",
   "pygments_lexer": "ipython3",
   "version": "3.6.2"
  }
 },
 "nbformat": 4,
 "nbformat_minor": 2
}
