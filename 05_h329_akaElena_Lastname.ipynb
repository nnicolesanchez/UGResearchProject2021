{
 "cells": [
  {
   "cell_type": "markdown",
   "metadata": {},
   "source": [
    "### Resources\n",
    "\n",
    "In addition to the jupyter notebooks included in this github repository, there are a number of tutorials that may end up being useful to you as you progress through the research. \n",
    "\n",
    "Some useful links:\n",
    "\n",
    "- Making images with Pynbody:\n",
    "\n",
    "https://pynbody.github.io/pynbody/tutorials/pictures.html\n",
    "\n",
    "- Once we start using Tangos:\n",
    "\n",
    "https://nbviewer.jupyter.org/github/pynbody/tangos/blob/master/docs/Data%20exploration%20with%20python.ipynb"
   ]
  },
  {
   "cell_type": "markdown",
   "metadata": {},
   "source": [
    "# h329 - aka Elena"
   ]
  },
  {
   "cell_type": "markdown",
   "metadata": {},
   "source": [
    "Halo 329 is one of the halos that is part of the \"Justice League\" set of simulations. It's one of 4 Milky Way mass galaxies that have been run at the highest resolution that our current simulation code can run. There are 3 levels of resolution for the simulations we'll look at:\n",
    "1. Lowest Resolution - which is the resolution we've looked at so far with the previous galaxy, h243. The limit of this resolution 350 pc. \n",
    "2. \"Near Mint\" Resolution - this is middle resolution and is the type of new simulation you're looking in this JN. The limit of this resolution is about 175 pcs.\n",
    "3. \"Mint\"* Resolution - this is the highest resolution we are currently capable of running. We'll look at this once we move on from this next galaxy! The limit of this resolution is 90 pc.\n",
    "\n",
    "As you can see, the limit of the resolution get smaller with higher resolution. This number respresents the smallest scale in the simulation that we can reliably resolve. \n",
    "\n",
    "As mentioned above, you'll be looking at the h329 (or Elena), a Near Mint Milky Way-mass galaxy next.\n",
    "\n",
    "(See more details about the simulation in Section 2.1 of https://ui.adsabs.harvard.edu/abs/2019MNRAS.482.2913B/abstract)\n",
    "\n",
    "*We're all big nerds so \"mint\" here refers to mint condition comic books which are considered the best. "
   ]
  },
  {
   "cell_type": "markdown",
   "metadata": {},
   "source": [
    "You should be able to analyze h329 exactly as you have been doing with P0. The only difference is there will be no dark matter particles included. Since h329 is higher resolution, which also means MORE particles, this change should make it so that it doesn't take too long for you to load the new simulation."
   ]
  },
  {
   "cell_type": "markdown",
   "metadata": {},
   "source": [
    "## Loading in h329"
   ]
  },
  {
   "cell_type": "code",
   "execution_count": null,
   "metadata": {
    "collapsed": true
   },
   "outputs": [],
   "source": [
    "# Add in any additional packages you want to load\n",
    "import matplotlib.pyplot as plt\n",
    "import pynbody\n",
    "\n",
    "% matplotlib inline"
   ]
  },
  {
   "cell_type": "code",
   "execution_count": null,
   "metadata": {
    "collapsed": true
   },
   "outputs": [],
   "source": [
    "sim = pynbody.load('/astro/store/gradscratch/tmp/sanchenn/h329gsonly_3456/h329.cosmo50PLK.3072gst5HbwK1BH.003456_gsonly')"
   ]
  },
  {
   "cell_type": "markdown",
   "metadata": {},
   "source": [
    "You can try using your module to load the simulation to put it into physical units and rotate it to faceon. If something doesn't work, you might need to adjust your module (or even make a new one!) so that it works for your new simulation. "
   ]
  },
  {
   "cell_type": "markdown",
   "metadata": {},
   "source": [
    "Some things you'll want to do right off the bat to know what's going on in the simulation:\n",
    "1. Make some of the images that you made for the previous galaxy, h243. Keep some of these questions in mind as you work.\n",
    "    - Does this galaxy's properties look similar to h243? If not, what specifically looks different? How does the temperature or density compare? Does it look more different when you look at the stars or when you look at the gas?\n",
    "2. Try making these images for the galaxy when it's side on.\n",
    "    - How does the overall shape of this galaxy compare to h243?\n",
    "3. Make some profiles and plot the star formation history too. See how these compare to P0. \n",
    "    - If you want to load in two separate simulations at a time, you can totally do that! Just make sure to call them different names. \n",
    "    - i.e. instead of loading the simulation into the object \"sim\" in the cells above, you would call it \"h329\" and load the other simulation in as \"h243\"\n",
    "4. When you're making your new set of plots, make sure to include the names of each simulation on each plot so we can keep everything straight. If you're not sure how to do that, try googling ```plt.title``` or ```plt.text``` to check out different ways you can label your plots. \n",
    "5. Don't forget you can always check out the ```sim.g.loadable_keys()``` for gas or ```sim.s.loadable_keys()``` for stars if you want to see what options you have to explore. \n",
    "\n",
    "Happy researching!"
   ]
  },
  {
   "cell_type": "code",
   "execution_count": null,
   "metadata": {
    "collapsed": true
   },
   "outputs": [],
   "source": []
  }
 ],
 "metadata": {
  "kernelspec": {
   "display_name": "Python [default]",
   "language": "python",
   "name": "python3"
  },
  "language_info": {
   "codemirror_mode": {
    "name": "ipython",
    "version": 3
   },
   "file_extension": ".py",
   "mimetype": "text/x-python",
   "name": "python",
   "nbconvert_exporter": "python",
   "pygments_lexer": "ipython3",
   "version": "3.5.2"
  }
 },
 "nbformat": 4,
 "nbformat_minor": 2
}
