{
 "cells": [
  {
   "cell_type": "markdown",
   "metadata": {},
   "source": [
    "### How to Log Back into Brume without Additional Setup"
   ]
  },
  {
   "cell_type": "markdown",
   "metadata": {},
   "source": [
    "First of all, make sure that you are connected to the UW VPN "
   ]
  },
  {
   "cell_type": "markdown",
   "metadata": {},
   "source": [
    "1. Open up a new **terminal** or **command line**\n",
    "2. Log into brume using your netID \n",
    "\n",
    "    ```ssh [your UWNet ID]@brume.astro.washington.edu```\n",
    "    \n",
    "    ** If you have set up your alias, you can just type: ```sshUW```\n",
    "\n",
    "3. Type ```notebook``` to load up the Jupyter Notebook system\n",
    "4. Open up a web browser to:\n",
    "\n",
    "    brume.astro.washington.edu:88##\n",
    "    \n",
    "    **Replace ## with whatever port you see on the terminal. It should say something like: \n",
    "    \n",
    "    ```The Jupyter Notebook is running at: https://[all ip addresses on your system]:8891/```\n",
    "    \n",
    "    So you should type in:\n",
    "    \n",
    "    ```brume.astro.washington.edu:8891```\n",
    "    \n",
    "5. Move into the UGResearchProject2021 directory and open your next project!"
   ]
  },
  {
   "cell_type": "markdown",
   "metadata": {},
   "source": [
    "### Resources\n",
    "\n",
    "In addition to the jupyter notebooks included in this github repository, there are a number of tutorials that may end up being useful to you as you progress through the research. \n",
    "\n",
    "Some useful links:\n",
    "\n",
    "- Making images with Pynbody:\n",
    "\n",
    "https://pynbody.github.io/pynbody/tutorials/pictures.html\n",
    "\n",
    "- Once we start using Tangos:\n",
    "\n",
    "https://nbviewer.jupyter.org/github/pynbody/tangos/blob/master/docs/Data%20exploration%20with%20python.ipynb"
   ]
  },
  {
   "cell_type": "markdown",
   "metadata": {},
   "source": [
    "# Star Formation Histories (SFH)"
   ]
  },
  {
   "cell_type": "code",
   "execution_count": null,
   "metadata": {
    "collapsed": true
   },
   "outputs": [],
   "source": [
    "# Always remember to load in your packages\n",
    "import matplotlib.pyplot as plt\n",
    "import pynbody\n",
    "\n",
    "# Include modules with functions you've created\n",
    "from morgansmodule import * \n",
    "# or: import morgansmodule \n",
    "# in this second case, you'd call is like by using: morgansmodule.function1()\n",
    "\n",
    "% matplotlib inline"
   ]
  },
  {
   "cell_type": "markdown",
   "metadata": {},
   "source": [
    "Star formation histories are usefull tools for understanding a galaxy. They are function of the amount of stars (in solar masses) formed throughout time. They can directly show when events like mergers, quenching, and accretion occur since all of those events impact star formation."
   ]
  },
  {
   "cell_type": "code",
   "execution_count": null,
   "metadata": {
    "collapsed": true
   },
   "outputs": [],
   "source": [
    "# Here you'll want to load in our simulation, select the main halo, convert to physical units, and center it\n",
    "# Consider using your module here?"
   ]
  },
  {
   "cell_type": "code",
   "execution_count": null,
   "metadata": {
    "collapsed": true
   },
   "outputs": [],
   "source": [
    "# Once you have your halo object.\n",
    "pynbody.plot.stars.sfh(sim_or_halo_object,bins=100)"
   ]
  },
  {
   "cell_type": "markdown",
   "metadata": {},
   "source": [
    "Great! Let's pause talk about what we're seeing in this SFH."
   ]
  }
 ],
 "metadata": {
  "kernelspec": {
   "display_name": "Python [default]",
   "language": "python",
   "name": "python3"
  },
  "language_info": {
   "codemirror_mode": {
    "name": "ipython",
    "version": 3
   },
   "file_extension": ".py",
   "mimetype": "text/x-python",
   "name": "python",
   "nbconvert_exporter": "python",
   "pygments_lexer": "ipython3",
   "version": "3.5.2"
  }
 },
 "nbformat": 4,
 "nbformat_minor": 2
}
