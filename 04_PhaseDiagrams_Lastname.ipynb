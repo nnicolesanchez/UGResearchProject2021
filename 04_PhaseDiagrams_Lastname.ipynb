{
 "cells": [
  {
   "cell_type": "markdown",
   "metadata": {
    "deletable": true,
    "editable": true
   },
   "source": [
    "### Resources\n",
    "\n",
    "In addition to the jupyter notebooks included in this github repository, there are a number of tutorials that may end up being useful to you as you progress through the research. \n",
    "\n",
    "Some useful links:\n",
    "\n",
    "- Making images with Pynbody:\n",
    "\n",
    "https://pynbody.github.io/pynbody/tutorials/pictures.html\n",
    "\n",
    "- Once we start using Tangos:\n",
    "\n",
    "https://nbviewer.jupyter.org/github/pynbody/tangos/blob/master/docs/Data%20exploration%20with%20python.ipynb"
   ]
  },
  {
   "cell_type": "markdown",
   "metadata": {
    "deletable": true,
    "editable": true
   },
   "source": [
    "# Phase Diagrams"
   ]
  },
  {
   "cell_type": "markdown",
   "metadata": {
    "deletable": true,
    "editable": true
   },
   "source": [
    "Phase diagrams can be made in a variety of ways. Basically, they mean plots that explore different \"phase spaces\" than plots that focus on a property as a function of x and y position (like the plots you made in 01_LoadingSims). It's sometimes weird to start thinking in this way because these plots don't \"look\" like what we expect the physical appearance of a galaxy to look like with our eyes, but they're super useful for understand some of the physics that underlies its different components. \n",
    "\n",
    "We're going to start by recreating some of the phase diagrams from Sanchez+2019, specifically the temperature vs density plots."
   ]
  },
  {
   "cell_type": "code",
   "execution_count": 2,
   "metadata": {
    "collapsed": true,
    "deletable": true,
    "editable": true
   },
   "outputs": [],
   "source": [
    "# Always remember to load in your packages!"
   ]
  },
  {
   "cell_type": "code",
   "execution_count": null,
   "metadata": {
    "collapsed": true,
    "deletable": true,
    "editable": true
   },
   "outputs": [],
   "source": [
    "# Select arrays of CGM gas density and temp\n",
    "## Hint: you'll need to select your CGM gas from the main halo; Assume a disk radius of 10 kpc\n",
    "## Hint 2: put the density into units of g cm**-3/m_H\n",
    "m_H = 1.6733 * 10**-24 #g"
   ]
  },
  {
   "cell_type": "markdown",
   "metadata": {
    "deletable": true,
    "editable": true
   },
   "source": [
    "First, let's take a look at what this gas looks like in a histogram. This looks a little like a profile, but it is *not* a profile. Instead, it tells you how much of the gas has certain properties."
   ]
  },
  {
   "cell_type": "code",
   "execution_count": null,
   "metadata": {
    "collapsed": true,
    "deletable": true,
    "editable": true
   },
   "outputs": [],
   "source": [
    "# Make a histogram for temperature\n",
    "plt.hist(CGM_temp_array,bins=100)\n",
    "plt.xlabel('Temperature')\n",
    "plt.ylabel('Counts per Bins')\n",
    "plt.show()"
   ]
  },
  {
   "cell_type": "code",
   "execution_count": null,
   "metadata": {
    "collapsed": true,
    "deletable": true,
    "editable": true
   },
   "outputs": [],
   "source": [
    "# Make a histogram for density"
   ]
  },
  {
   "cell_type": "code",
   "execution_count": null,
   "metadata": {
    "collapsed": true,
    "deletable": true,
    "editable": true
   },
   "outputs": [],
   "source": [
    "# Make a histogram for mass"
   ]
  },
  {
   "cell_type": "markdown",
   "metadata": {
    "deletable": true,
    "editable": true
   },
   "source": [
    "We'll be using the plt.hexbin function which allows us to create 2-D histograms."
   ]
  },
  {
   "cell_type": "code",
   "execution_count": null,
   "metadata": {
    "collapsed": true,
    "deletable": true,
    "editable": true
   },
   "outputs": [],
   "source": [
    "fig = plt.figure(figsize=(7, 5))\n",
    "x = #CGM_rho_array, don't forget to specify units!\n",
    "y = # CGM_temp_array\n",
    "plt.hexbin(x,y,,mincnt=1,bins='log')"
   ]
  },
  {
   "cell_type": "code",
   "execution_count": null,
   "metadata": {
    "collapsed": true,
    "deletable": true,
    "editable": true
   },
   "outputs": [],
   "source": [
    "# Let's color the 2-D histogram by a useful property\n",
    "z = #CGM_mass_array, don't forget units!\n",
    "\n",
    "plt.hexbin(x,y,C=z,reduce_C_function=np.sum,cmap=cm.jet,mincnt=1,bins='log') # vmin=5.25,vmax=8.75"
   ]
  },
  {
   "cell_type": "code",
   "execution_count": null,
   "metadata": {
    "collapsed": true,
    "deletable": true,
    "editable": true
   },
   "outputs": [],
   "source": [
    "# Color the same plot by metallicity \n",
    "Z_sun = 0.0142\n",
    "z_2 = CGM_metallicity_array # Scale down by Z_sun to put it in solar units"
   ]
  },
  {
   "cell_type": "code",
   "execution_count": null,
   "metadata": {
    "collapsed": true,
    "deletable": true,
    "editable": true
   },
   "outputs": [],
   "source": [
    "# Color the same plot by radius\n",
    "z_3 = CGM_radius_array "
   ]
  },
  {
   "cell_type": "markdown",
   "metadata": {
    "deletable": true,
    "editable": true
   },
   "source": [
    "## Profiles scaled by radius and saving data"
   ]
  },
  {
   "cell_type": "markdown",
   "metadata": {
    "deletable": true,
    "editable": true
   },
   "source": [
    "The virial radius is the \"edge\" of the galaxy. It's a useful measurement (even if the definition is a little wiggly) because then you can scale profiles to the virial radius. This scaling is particularly useful when comparing different galaxies (next week!) because oftentimes the virial radii of different galaxies are quite different."
   ]
  },
  {
   "cell_type": "code",
   "execution_count": null,
   "metadata": {
    "collapsed": true,
    "deletable": true,
    "editable": true
   },
   "outputs": [],
   "source": [
    "Rvir = pynbody.analysis.halo.virial_radius(halo_object)"
   ]
  },
  {
   "cell_type": "code",
   "execution_count": null,
   "metadata": {
    "collapsed": true,
    "deletable": true,
    "editable": true
   },
   "outputs": [],
   "source": [
    "# Create a profile object for the halo"
   ]
  },
  {
   "cell_type": "code",
   "execution_count": null,
   "metadata": {
    "collapsed": true,
    "deletable": true,
    "editable": true
   },
   "outputs": [],
   "source": [
    "# Plot the metallicity profile of the galaxy and scale by Rvir\n",
    "\n",
    "\n",
    "\n",
    "#plt.savefig('filename.pdf')"
   ]
  },
  {
   "cell_type": "markdown",
   "metadata": {
    "deletable": true,
    "editable": true
   },
   "source": [
    "Whenever you want to save a file, you just need to include this ```plt.savefig()``` function **within the cell you are running the plot in!**"
   ]
  },
  {
   "cell_type": "code",
   "execution_count": null,
   "metadata": {
    "collapsed": true,
    "deletable": true,
    "editable": true
   },
   "outputs": [],
   "source": []
  }
 ],
 "metadata": {
  "kernelspec": {
   "display_name": "Python [default]",
   "language": "python",
   "name": "python3"
  },
  "language_info": {
   "codemirror_mode": {
    "name": "ipython",
    "version": 3
   },
   "file_extension": ".py",
   "mimetype": "text/x-python",
   "name": "python",
   "nbconvert_exporter": "python",
   "pygments_lexer": "ipython3",
   "version": "3.5.2"
  }
 },
 "nbformat": 4,
 "nbformat_minor": 2
}
