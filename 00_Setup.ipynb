{
 "cells": [
  {
   "cell_type": "markdown",
   "metadata": {},
   "source": [
    "# How to Log In to the UW Machines"
   ]
  },
  {
   "cell_type": "markdown",
   "metadata": {},
   "source": [
    "Download HuskyOnNet (aka BIG-IP Edge Client or f5): https://itconnect.uw.edu/connect/uw-networks/about-husky-onnet/ for your operating system. This makes logging in remotely easier because it makes your computer think that you are on the UW campus, which makes it easier to get through the UW network security."
   ]
  },
  {
   "cell_type": "markdown",
   "metadata": {},
   "source": [
    "Run the command:\n",
    "    \n",
    "```ssh -XY [your UWNet ID]@brume.astro.washington.edu```\n",
    "\n",
    "Enter your password for your UWNet ID when prompted."
   ]
  },
  {
   "cell_type": "markdown",
   "metadata": {},
   "source": [
    "## Clone the GitHub Directory for our Research Project (This one you're looking at!)"
   ]
  },
  {
   "cell_type": "markdown",
   "metadata": {},
   "source": [
    "1. In a web browser go to https://github.com/nnicolesanchez/UGResearchProject2021\n",
    "\n",
    "2. Click the green button that says \"Clone or Download\"\n",
    "\n",
    "3. Copy the web address to your computer's clipboard: https://github.com/nnicolesanchez/UGResearchProject2021.git\n",
    "\n",
    "4. Back in your terminal type:\n",
    "```bash\n",
    "git clone https://github.com/nnicolesanchez/UGResearchProject2021.git\n",
    "```\n",
    "\n",
    "5. This will download the Research files that we've created\n",
    "8. In the terminal type:\n",
    "```bash\n",
    "cd PreMAP2019\n",
    "```\n",
    "9. Then in the terminal type the following command. This will copy the file `premap_cshrc` to your home directory and rename it `.cshrc`\n",
    "```bash\n",
    "cp premap_cshrc ../.cshrc\n",
    "```\n",
    "10. Next type the following command. This will copy the file `setup-nbserver` into your home directory\n",
    "```bash\n",
    "cp setup-nbserver ..\n",
    "```\n",
    "11. Now move into your home directory with the following command:\n",
    "```bash\n",
    "cd\n",
    "```\n",
    "12. List all the files in your home directory (including hidden ones like you `.cshrc` file) with the following command. Just make sure that your `.cshrc` file is there and that you have a file called `setup-nbserver`, which should be listed in green.:\n",
    "```bash\n",
    "ls -a\n",
    "```\n",
    "13. The first thing you need to do is \"source\" your `.cshrc` file, which means to make your computer read its contents.\n",
    "```bash\n",
    "source .cshrc\n",
    "```\n",
    "14. Then execute the `setup-nbserver` script to setup your Jupyter notebook server:\n",
    "```bash\n",
    "./setup-nbserver\n",
    "```\n",
    "15. The ```setup-nbserver``` script will prompt you to enter a password. **PLEASE WRITE THIS PASSWORD DOWN** as you will not be able to reset it (or at least I have no clue how to). You will need to enter this password as an extra security measure when you are opening a Jupyter notebook from another computer. Please write it down wherever you keep passwords on your computer or on one of the NASA post-it notes that Margaret has.\n",
    "16. Then type the following command to source your `cshrc` file, which will point to all the places your computer needs to know about to run python:\n",
    "\n"
   ]
  },
  {
   "cell_type": "markdown",
   "metadata": {},
   "source": [
    "# How to Open Jupyter Notebook"
   ]
  },
  {
   "cell_type": "markdown",
   "metadata": {},
   "source": [
    "Confirm that things are working:\n",
    "To make sure this has worked, let's try two things. First let's just open python to make sure you're running the correction version. In your terminal, type:\n",
    "\n",
    "python\n",
    "You should see that you are running version 3.5.2. To get out of python just type:\n",
    "\n",
    "exit()\n",
    "Next, let's just test that you are able to open a Jupyter notebook. Type the following command in your terminal:\n",
    "\n",
    "notebook\n",
    "\n",
    "You should see some output that says a Jupyter notebook server is running. If so, it worked! For now, just exit out of this by typing \"control-C\" and then \"y\" when it asks you if you really want to shut down the server."
   ]
  },
  {
   "cell_type": "code",
   "execution_count": null,
   "metadata": {
    "collapsed": true
   },
   "outputs": [],
   "source": [
    "Each time you log on to your astrolab account (either in the lab or remotely) make sure your files are up to date\n",
    "Get into the PreMAP2019 directory\n",
    "cd PreMAP2019\n",
    "Update the directory to get any newly added files\n",
    "git pull"
   ]
  }
 ],
 "metadata": {
  "kernelspec": {
   "display_name": "Python [conda env:py36]",
   "language": "python",
   "name": "conda-env-py36-py"
  },
  "language_info": {
   "codemirror_mode": {
    "name": "ipython",
    "version": 3
   },
   "file_extension": ".py",
   "mimetype": "text/x-python",
   "name": "python",
   "nbconvert_exporter": "python",
   "pygments_lexer": "ipython3",
   "version": "3.6.2"
  }
 },
 "nbformat": 4,
 "nbformat_minor": 2
}
